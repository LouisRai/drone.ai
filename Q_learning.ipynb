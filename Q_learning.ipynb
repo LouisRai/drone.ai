{
 "cells": [
  {
   "cell_type": "code",
   "execution_count": 73,
   "metadata": {},
   "outputs": [
    {
     "name": "stdout",
     "output_type": "stream",
     "text": [
      "[[  -1   -1   -1]\n",
      " [  -1 -100   -1]\n",
      " [  -1   -1  100]]\n",
      "[1, 3]\n"
     ]
    }
   ],
   "source": [
    "import numpy as np\n",
    "import random \n",
    "from collections import defaultdict \n",
    "import itertools \n",
    "\n",
    "state_size = 4\n",
    "action_size = 4\n",
    "\n",
    "\n",
    "def board():\n",
    "    board = np.full((3,3),-1)\n",
    "    board[1,1] = -100\n",
    "    board[2,2] = 100\n",
    "    return board\n",
    "\n",
    "board = board()\n",
    "print board\n",
    "# state -> action-> action-value\n",
    "Q_table = defaultdict(lambda:np.zeros(4))\n",
    "\n",
    "\n",
    "for i in range(state_size):\n",
    "    for j in range(action_size):\n",
    "        Q_table[i][j]=0.0\n",
    "\n",
    "def available_action(state):\n",
    "    \n",
    "    action = []\n",
    "    if state[0]-1 > 0:\n",
    "        #left\n",
    "        action.append(0)\n",
    "    if state[0]+1 > 0:\n",
    "        #right\n",
    "        action.append(1)\n",
    "    if state[1]-1 > 0:\n",
    "        #up\n",
    "        action.append(2)\n",
    "    if state[1]+1 > 0:\n",
    "        #down\n",
    "        action.append(3)\n",
    "    return action\n",
    "\n",
    "print available_action((0,0))\n"
   ]
  },
  {
   "cell_type": "code",
   "execution_count": null,
   "metadata": {},
   "outputs": [],
   "source": [
    "def createEpsilonGreedyPolicy(Q, epsilon, num_actions): \n",
    "\n",
    "    def policyFunction(state): \n",
    "\n",
    "        Action_probabilities = np.ones(num_actions,dtype = float) * epsilon / num_actions \n",
    "                \n",
    "        best_action = np.argmax(Q[state]) \n",
    "        Action_probabilities[best_action] += (1.0 - epsilon) \n",
    "        return Action_probabilities \n",
    "\n",
    "    return policyFunction \n",
    "\n",
    "\n",
    "def Model(Q,num_episode, discount_factor = 1.0,alpha = 0.6, epsilon = 0.1):\n",
    "    \n",
    "    policy = createEpsilonGreedyPolicy(Q, epsilon, len(Q[0]))\n",
    "    \n",
    "    for ith_episode in range(num_episode):\n",
    "        state = 0\n",
    "        goal = False\n",
    "        \n",
    "    \n",
    "        while not goal:\n",
    "            \n",
    "            if random.uniform(0,1) < epsilon:\n",
    "                action = random.choice([0,1])\n",
    "                next_state = action\n",
    "            else:\n",
    "                random_state.shuffle(actions)\n",
    "                action = actions[0]\n",
    "                \n",
    "                next_state = action\n",
    "            reward = update_q(current_state, next_state, action,\n",
    "                              alpha=alpha, gamma=gamma)\n",
    "           \n",
    "            if reward > 1:\n",
    "                goal = True\n",
    "            current_state = next_state\n",
    "    \n",
    "\n",
    "print Q_table"
   ]
  }
 ],
 "metadata": {
  "kernelspec": {
   "display_name": "Python 2",
   "language": "python",
   "name": "python2"
  },
  "language_info": {
   "codemirror_mode": {
    "name": "ipython",
    "version": 2
   },
   "file_extension": ".py",
   "mimetype": "text/x-python",
   "name": "python",
   "nbconvert_exporter": "python",
   "pygments_lexer": "ipython2",
   "version": "2.7.15"
  }
 },
 "nbformat": 4,
 "nbformat_minor": 2
}
